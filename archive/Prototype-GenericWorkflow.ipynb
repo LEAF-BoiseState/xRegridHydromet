{
 "cells": [
  {
   "cell_type": "markdown",
   "id": "0cc06dd6-0566-47d0-83ac-a3c70bd7bd2a",
   "metadata": {},
   "source": [
    "# Prototype of a Generic Workflow\n",
    "\n",
    "## 1. Setup Computational Environment\n",
    "\n"
   ]
  },
  {
   "cell_type": "code",
   "execution_count": 1,
   "id": "7871e72b-95e0-4f44-83f5-f088b7ba5658",
   "metadata": {},
   "outputs": [],
   "source": [
    "# These would be needed for the tool, but may not all be used here\n",
    "import xarray as xr\n",
    "import xesmf as xe\n",
    "import numpy as np\n",
    "import glob\n",
    "import sys\n",
    "import yaml\n",
    "\n",
    "# This is only needed in this prototype to verify results\n",
    "import matplotlib.pyplot as plt\n",
    "\n",
    "example_config_file = './prototype_config.yml' # < should be input to main()\n"
   ]
  },
  {
   "cell_type": "markdown",
   "id": "6ad1037a-ac69-40f3-b8cd-e0551c42679d",
   "metadata": {},
   "source": [
    "## 2. Open `config.yml` File\n",
    "\n",
    "### 2a. Get Job Tag\n",
    "The user must specify a single alpha numeric string that will be used to label the regridder NetCDF file\n",
    "\n",
    "### 2b. Are We Building Weights or Just Regridding with Existing Weights\n",
    "Need build_weights == True/False and\n",
    "True -> Will need to call regridder\n",
    "False -> User specifies regridder file name\n",
    "\n",
    "Regridding == True/False\n",
    "True -> Need start/end date, variables to regrid, source grid location, destination grid location\n",
    "False -> Don't need anything... just saving the \n",
    "\n",
    "If False & False... throw error... why is the user doing this? \n",
    "\n",
    "`TODO` Add a check to make sure key blocks exist in yaml config file"
   ]
  },
  {
   "cell_type": "code",
   "execution_count": 2,
   "id": "b6748b3f-4d8c-4eb7-8d52-a9dede3a0b2f",
   "metadata": {},
   "outputs": [],
   "source": [
    "with open(example_config_file, 'r') as config_file:\n",
    "    config_data = yaml.load(config_file, Loader=yaml.FullLoader)\n",
    "    "
   ]
  },
  {
   "cell_type": "code",
   "execution_count": 3,
   "id": "eb28036e-3820-4126-b70f-6a9a32cfa207",
   "metadata": {},
   "outputs": [
    {
     "data": {
      "text/plain": [
       "'livneh_to_id-wrf30-narr'"
      ]
     },
     "execution_count": 3,
     "metadata": {},
     "output_type": "execute_result"
    }
   ],
   "source": [
    "config_data['jobinfo']['jobtag']"
   ]
  },
  {
   "cell_type": "code",
   "execution_count": 4,
   "id": "b6f984e2-5697-4076-88b4-48c0d299cf64",
   "metadata": {},
   "outputs": [
    {
     "name": "stdout",
     "output_type": "stream",
     "text": [
      "Yes, we are building weight matrix...\n"
     ]
    }
   ],
   "source": [
    "if(config_data['jobinfo']['build_weights'] == True):\n",
    "    print('Yes, we are building weight matrix...')\n",
    "else:\n",
    "    print('No, we are not building weight matrix')"
   ]
  },
  {
   "cell_type": "code",
   "execution_count": 5,
   "id": "86cd2fca-80cb-4ca5-9e3e-4d1ef8439ab2",
   "metadata": {},
   "outputs": [
    {
     "name": "stdout",
     "output_type": "stream",
     "text": [
      "We're doing something...\n"
     ]
    }
   ],
   "source": [
    "if((config_data['jobinfo']['build_weights'] == False) and \n",
    "   (config_data['jobinfo']['regrid_data'] == False)):\n",
    "    print('It\\'s not clear we\\'re doing anything...')\n",
    "else:\n",
    "    print('We\\'re doing something...')"
   ]
  },
  {
   "cell_type": "markdown",
   "id": "efc9842b-d997-49a2-bd7e-332fa3cd6e17",
   "metadata": {},
   "source": [
    "## 3. Building Weights (`build_weights==True`)\n",
    "\n",
    "### 3a. Get Name of Source Grid Metadata File"
   ]
  },
  {
   "cell_type": "code",
   "execution_count": 6,
   "id": "57f7501a-9146-4e1e-a1f7-883b1093a15f",
   "metadata": {},
   "outputs": [
    {
     "name": "stdout",
     "output_type": "stream",
     "text": [
      "../debug_grid_metadata/livneh_parms.yml\n"
     ]
    }
   ],
   "source": [
    "src_gridinfo_fname = config_data['srcinfo']['src_gridinfo']\n",
    "print(src_gridinfo_fname)"
   ]
  },
  {
   "cell_type": "markdown",
   "id": "6162bc91-e3bb-453d-b97c-46a91a038b4c",
   "metadata": {},
   "source": [
    "### 3b. Get Name of Destination Grid Metadata File"
   ]
  },
  {
   "cell_type": "code",
   "execution_count": 7,
   "id": "002e9cdd-9259-462c-a59a-4b40f24f99b0",
   "metadata": {},
   "outputs": [
    {
     "name": "stdout",
     "output_type": "stream",
     "text": [
      "../dest_grid_metadata/id-wrf30-narr.yml\n"
     ]
    }
   ],
   "source": [
    "dest_gridinfo_fname = config_data['destinfo']['dest_gridinfo']\n",
    "print(dest_gridinfo_fname)"
   ]
  },
  {
   "cell_type": "markdown",
   "id": "4805f3f8-b722-42c7-ab06-8eb625dc7aff",
   "metadata": {
    "tags": []
   },
   "source": [
    "### 3c. Open Source Grid Example File\n",
    "\n",
    "Is it curvilinear or rectilinear (`curvilinear`==True/False in metadata.yml file)\n"
   ]
  },
  {
   "cell_type": "code",
   "execution_count": 8,
   "id": "076b035a-fe3c-41d6-a43c-a8354fc894d7",
   "metadata": {},
   "outputs": [
    {
     "name": "stdout",
     "output_type": "stream",
     "text": [
      "Is source grid curvilinear? Survey says... False\n"
     ]
    }
   ],
   "source": [
    "with open(src_gridinfo_fname, 'r') as yaml_file:\n",
    "    src_gridinfo = yaml.load(yaml_file, Loader=yaml.FullLoader)\n",
    "\n",
    "print('Is source grid curvilinear? Survey says... '+str(src_gridinfo['curvilinear']))\n",
    "    \n",
    "# Example error checks\n",
    "assert src_gridinfo['latvar_name'], 'Source latvar_name key does not exist in'+src_gridinfo_fname\n",
    "assert src_gridinfo['lonvar_name'], 'Source latvar_name key does not exist in'+src_gridinfo_fname\n",
    "\n",
    "if(src_gridinfo['curvilinear']):\n",
    "    assert (src_gridinfo['latvar_b_name'] is not None), 'For curvilinear grids, name of the variable containing cell borders is required'\n",
    "    assert (src_gridinfo['lonvar_b_name'] is not None), 'For curvilinear grids, name of the variable containing cell borders is required'\n",
    "    \n",
    "assert (src_gridinfo['template_file'] is not None), 'Name of a template file must be specified in'+src_gridinfo_fname"
   ]
  },
  {
   "cell_type": "markdown",
   "id": "cfd4ece0-630a-4c67-8515-6292b5bb8a34",
   "metadata": {},
   "source": [
    "Error check:\n",
    "- Do the latitude and longitude variables exist?\n",
    "- If it is curvilinear are variable names for corners of cells provided? \n",
    "Check to see if lat and long are 1- or 2-D \n",
    "\n",
    "If 1-D: (by definition this is rectilinear... so error trap here?) \n",
    "- Create corner array\n",
    "- Use meshgrid to make 2-D\n",
    "\n",
    "If 2-D: \n",
    "- Create corner arrays (only works if rectilinear) \n"
   ]
  },
  {
   "cell_type": "code",
   "execution_count": 9,
   "id": "012fe4bf-a369-43b6-9787-dab5d24b211b",
   "metadata": {},
   "outputs": [
    {
     "name": "stdout",
     "output_type": "stream",
     "text": [
      "<xarray.Dataset>\n",
      "Dimensions:  (lon: 928, lat: 614, time: 31)\n",
      "Coordinates:\n",
      "  * lon      (lon) float64 -125.0 -124.9 -124.8 -124.8 ... -67.16 -67.09 -67.03\n",
      "  * lat      (lat) float64 14.66 14.72 14.78 14.84 ... 52.78 52.84 52.91 52.97\n",
      "  * time     (time) datetime64[ns] 1986-10-01 1986-10-02 ... 1986-10-31\n",
      "Data variables:\n",
      "    Prec     (time, lat, lon) float32 ...\n",
      "    Tmax     (time, lat, lon) float32 ...\n",
      "    Tmin     (time, lat, lon) float32 ...\n",
      "    wind     (time, lat, lon) float32 ...\n",
      "Attributes:\n",
      "    CDI:                       Climate Data Interface version 1.6.4 (http://c...\n",
      "    Conventions:               CF-1.4\n",
      "    history:                   Sat Oct 11 08:19:20 2014: cdo ifthenelse /Volu...\n",
      "    nco_openmp_thread_number:  1\n",
      "    NCO:                       4.4.5\n",
      "    CDO:                       Climate Data Operators version 1.6.4 (http://c...\n"
     ]
    }
   ],
   "source": [
    "src_ds = xr.open_dataset(src_gridinfo['template_file'])\n",
    "print(src_ds)"
   ]
  },
  {
   "cell_type": "markdown",
   "id": "9139d417-0752-4fd0-9164-ea94c5522e07",
   "metadata": {},
   "source": [
    "### 3d. Open Destination Grid Example File\n",
    "Is it curvilinear or rectilinear (`curvilinear`==True/False in metadata.yml file)\n",
    "\n",
    "Error check:\n",
    "- Do the latitude and longitude variables exist?\n",
    "- If it is curvilinear are variable names for corners of cells provided? \n",
    "\n",
    "Check to see if lat and long are 1- or 2-D \n",
    "\n",
    "If 1-D: (by definition this is rectilinear... so error trap here?) \n",
    "- Create corner array\n",
    "- Use meshgrid to make 2-D\n",
    "\n",
    "If 2-D: \n",
    "- Create corner arrays (only works if rectilinear) "
   ]
  },
  {
   "cell_type": "code",
   "execution_count": 10,
   "id": "8a0c10ba-cf59-49cc-b637-6f92e0071aeb",
   "metadata": {},
   "outputs": [
    {
     "name": "stdout",
     "output_type": "stream",
     "text": [
      "Is source grid curvilinear? Survey says... True\n"
     ]
    }
   ],
   "source": [
    "with open(dest_gridinfo_fname, 'r') as yaml_file:\n",
    "    dest_gridinfo = yaml.load(yaml_file, Loader=yaml.FullLoader)\n",
    "\n",
    "print('Is source grid curvilinear? Survey says... '+str(dest_gridinfo['curvilinear']))\n",
    "    \n",
    "# Example error checks\n",
    "assert dest_gridinfo['latvar_name'], 'Source latvar_name key does not exist in'+dest_gridinfo_fname\n",
    "assert dest_gridinfo['lonvar_name'], 'Source latvar_name key does not exist in'+dest_gridinfo_fname\n",
    "\n",
    "if(dest_gridinfo['curvilinear']):\n",
    "    assert (dest_gridinfo['latvar_b_name'] is not None), 'For curvilinear grids, name of the variable containing cell borders is required'\n",
    "    assert (dest_gridinfo['lonvar_b_name'] is not None), 'For curvilinear grids, name of the variable containing cell borders is required'\n",
    "    \n",
    "assert (dest_gridinfo['template_file'] is not None), 'Name of a template file must be specified in'+dest_gridinfo_fname"
   ]
  },
  {
   "cell_type": "code",
   "execution_count": 11,
   "id": "d697c1f0-100b-4350-af80-173e052e4bbb",
   "metadata": {
    "tags": []
   },
   "outputs": [
    {
     "name": "stdout",
     "output_type": "stream",
     "text": [
      "<xarray.Dataset>\n",
      "Dimensions:     (Time: 1, south_north: 289, west_east: 339, south_north_stag: 290, west_east_stag: 340, land_cat: 21, soil_cat: 16, month: 12, num_urb_params: 132)\n",
      "Dimensions without coordinates: Time, south_north, west_east, south_north_stag, west_east_stag, land_cat, soil_cat, month, num_urb_params\n",
      "Data variables: (12/57)\n",
      "    Times       (Time) |S19 ...\n",
      "    XLAT_M      (Time, south_north, west_east) float32 ...\n",
      "    XLONG_M     (Time, south_north, west_east) float32 ...\n",
      "    XLAT_V      (Time, south_north_stag, west_east) float32 ...\n",
      "    XLONG_V     (Time, south_north_stag, west_east) float32 ...\n",
      "    XLAT_U      (Time, south_north, west_east_stag) float32 ...\n",
      "    ...          ...\n",
      "    OL4         (Time, south_north, west_east) float32 ...\n",
      "    VAR_SSO     (Time, south_north, west_east) float32 ...\n",
      "    LAKE_DEPTH  (Time, south_north, west_east) float32 ...\n",
      "    URB_PARAM   (Time, num_urb_params, south_north, west_east) float32 ...\n",
      "    IMPERV      (Time, south_north, west_east) float32 ...\n",
      "    CANFRA      (Time, south_north, west_east) float32 ...\n",
      "Attributes: (12/47)\n",
      "    TITLE:                           OUTPUT FROM GEOGRID V3.8.1\n",
      "    SIMULATION_START_DATE:           0000-00-00_00:00:00\n",
      "    WEST-EAST_GRID_DIMENSION:        340\n",
      "    SOUTH-NORTH_GRID_DIMENSION:      290\n",
      "    BOTTOM-TOP_GRID_DIMENSION:       0\n",
      "    WEST-EAST_PATCH_START_UNSTAG:    1\n",
      "    ...                              ...\n",
      "    parent_grid_ratio:               1\n",
      "    sr_x:                            1\n",
      "    sr_y:                            1\n",
      "    FLAG_MF_XY:                      1\n",
      "    FLAG_LAI12M:                     1\n",
      "    FLAG_LAKE_DEPTH:                 1\n"
     ]
    }
   ],
   "source": [
    "dest_ds = xr.open_dataset(dest_gridinfo['template_file'])\n",
    "print(dest_ds)"
   ]
  },
  {
   "cell_type": "markdown",
   "id": "31129a65-90e3-4731-8092-780dcba8b095",
   "metadata": {},
   "source": [
    "### 3e. Prepare the Source Grid for `xESMF.Regridder()`  "
   ]
  },
  {
   "cell_type": "code",
   "execution_count": 12,
   "id": "a9d1c784-d17b-4045-807f-29b6512d7b4e",
   "metadata": {},
   "outputs": [],
   "source": [
    "def prep_grid(gridinfo_dict):\n",
    "\n",
    "    iscurvilinear = gridinfo_dict['curvilinear']\n",
    "    \n",
    "    latvar_name = gridinfo_dict['latvar_name']\n",
    "    lonvar_name = gridinfo_dict['lonvar_name']\n",
    "\n",
    "    if iscurvilinear:\n",
    "        latvar_b_name = gridinfo_dict['latvar_b_name']\n",
    "        lonvar_b_name = gridinfo_dict['lonvar_b_name']\n",
    "    else: # See if the user entered variable names for latvar_b_name and lonvar_b_name, even if \n",
    "        # The grid is rectilinear\n",
    "            \n",
    "        if(('latvar_b_name' in gridinfo_dict) and \n",
    "           ('lonvar_b_name' in gridinfo_dict)):\n",
    "            latvar_b_name = gridinfo_dict['latvar_b_name']\n",
    "            lonvar_b_name = gridinfo_dict['lonvar_b_name']\n",
    "        else:\n",
    "            latvar_b_name = None\n",
    "            lonvar_b_name = None\n",
    "            \n",
    "    grid_template_fname = gridinfo_dict['template_file']\n",
    "    \n",
    "    ds = xr.open_dataset(grid_template_fname)\n",
    "    \n",
    "    lat = ds[latvar_name].data\n",
    "    lon = ds[lonvar_name].data\n",
    "    \n",
    "    if(ds[latvar_name].ndim==1):\n",
    "        lat = ds[latvar_name].data\n",
    "    elif(ds[latvar_name].ndim==2):\n",
    "        lat = ds[latvar_name].data    \n",
    "    else:\n",
    "        dropdim = gridinfo_dict['latvar_dropdim']\n",
    "        lat = ds[latvar_name].isel({dropdim: 0}).data\n",
    "\n",
    "    if(ds[lonvar_name].ndim==1):\n",
    "        lon = ds[lonvar_name].data\n",
    "    elif(ds[latvar_name].ndim==2):\n",
    "        lon = ds[lonvar_name].data    \n",
    "    else:\n",
    "        dropdim = gridinfo_dict['lonvar_dropdim']\n",
    "        lon = ds[lonvar_name].isel({dropdim: 0}).data\n",
    "            \n",
    "    # Boundaries of cells\n",
    "    if(iscurvilinear): # If curvilinear, these must be provided\n",
    "        # Get boundary latitude\n",
    "        if(ds[latvar_b_name].ndim==2):\n",
    "            lat_b = ds[latvar_b_name].data\n",
    "        else:\n",
    "            dropdim = gridinfo_dict['latvar_b_dropdim']\n",
    "            lat_b = ds[latvar_b_name].isel({dropdim: 0}).data\n",
    "\n",
    "        # Get boundary latitude\n",
    "        if(ds[lonvar_b_name].ndim==2):\n",
    "            lon_b = ds[lonvar_b_name].data\n",
    "        else:\n",
    "            dropdim = gridinfo_dict['lonvar_b_dropdim']\n",
    "            lon_b = ds[lonvar_b_name].isel({dropdim: 0}).data\n",
    "\n",
    "    # If rectilinear, these *might* have been provided\n",
    "    elif (iscurvilinear == False) and (latvar_b_name is not None) and (lonvar_b_name is not None): \n",
    "        # Get boundary latitude\n",
    "        if(ds[latvar_b_name].ndim==2):\n",
    "            lat_b = ds[latvar_b_name].data\n",
    "        else:\n",
    "            dropdim = gridinfo_dict['latvar_b_dropdim']\n",
    "            lat_b = ds[latvar_b_name].isel({dropdim: 0}).data\n",
    "\n",
    "        # Get boundary latitude\n",
    "        if(ds[lonvar_b_name].ndim==2):\n",
    "            lon_b = ds[lonvar_b_name].data\n",
    "        else:\n",
    "            dropdim = gridinfo_dict['lonvar_b_dropdim']\n",
    "            lon_b = ds[lonvar_b_name].isel({dropdim: 0}).data\n",
    "    \n",
    "    else: # Calculate corners for rectilinear cases where boundaries not provided\n",
    "        \n",
    "        if(lat.ndim==1) and (lon.ndim==1):\n",
    "            lat_b = np.append((lat[0]-0.5*(lat[1]-lat[0])),(lat+0.5*(lat[1]-lat[0])))\n",
    "            lon_b = np.append((lon[0]-0.5*(lon[1]-lon[0])),(lon+0.5*(lon[1]-lon[0])))\n",
    "        \n",
    "        else:\n",
    "            lat_b = np.concatenate(((np.expand_dims(lat[0,:]-0.5*(lat[1,:]-lat[0,:]),axis=0)),\n",
    "                                    np.array(lat+0.5*(lat[1,:]-lat[0,:]))),axis=0)\n",
    "            lat_b = np.concatenate((lat_b,np.expand_dims(lat_b[:,-1],axis=1)),axis=1)\n",
    "            \n",
    "            lon_b = np.concatenate((np.expand_dims(lon[:,0]-0.5*(lon[:,1]-lon[:,0]),axis=1),\n",
    "                                    (lon+0.5*(lon[:,1]-lon[:,0]))),axis=1)\n",
    "            lon_b = np.concatenate((lon_b,np.expand_dims(lon_b[-1,:],axis=0)),axis=0)\n",
    "            \n",
    "    # If lat, lat_b, lon, and lon_b are 1-D arrays, use meshgrid to make 2-D arrays\n",
    "    if(lat.ndim==1) and (lon.ndim==1):\n",
    "        lon, lat = np.meshgrid(lon,lat)\n",
    "        \n",
    "    if(lat_b.ndim==1) and (lon_b.ndim==1):\n",
    "        lon_b, lat_b = np.meshgrid(lon_b,lat_b)\n",
    "\n",
    "    grid_for_esmf = {'lon': lon, 'lat': lat,\n",
    "            'lon_b': lon_b, 'lat_b': lat_b}\n",
    "\n",
    "    return grid_for_esmf\n"
   ]
  },
  {
   "cell_type": "code",
   "execution_count": 13,
   "id": "435e895e-c386-4b20-82d6-3c1c578185ab",
   "metadata": {},
   "outputs": [
    {
     "name": "stdout",
     "output_type": "stream",
     "text": [
      "{'lon': array([[-124.96875, -124.90625, -124.84375, ...,  -67.15625,  -67.09375,\n",
      "         -67.03125],\n",
      "       [-124.96875, -124.90625, -124.84375, ...,  -67.15625,  -67.09375,\n",
      "         -67.03125],\n",
      "       [-124.96875, -124.90625, -124.84375, ...,  -67.15625,  -67.09375,\n",
      "         -67.03125],\n",
      "       ...,\n",
      "       [-124.96875, -124.90625, -124.84375, ...,  -67.15625,  -67.09375,\n",
      "         -67.03125],\n",
      "       [-124.96875, -124.90625, -124.84375, ...,  -67.15625,  -67.09375,\n",
      "         -67.03125],\n",
      "       [-124.96875, -124.90625, -124.84375, ...,  -67.15625,  -67.09375,\n",
      "         -67.03125]]), 'lat': array([[14.65625, 14.65625, 14.65625, ..., 14.65625, 14.65625, 14.65625],\n",
      "       [14.71875, 14.71875, 14.71875, ..., 14.71875, 14.71875, 14.71875],\n",
      "       [14.78125, 14.78125, 14.78125, ..., 14.78125, 14.78125, 14.78125],\n",
      "       ...,\n",
      "       [52.84375, 52.84375, 52.84375, ..., 52.84375, 52.84375, 52.84375],\n",
      "       [52.90625, 52.90625, 52.90625, ..., 52.90625, 52.90625, 52.90625],\n",
      "       [52.96875, 52.96875, 52.96875, ..., 52.96875, 52.96875, 52.96875]]), 'lon_b': array([[-125.    , -124.9375, -124.875 , ...,  -67.125 ,  -67.0625,\n",
      "         -67.    ],\n",
      "       [-125.    , -124.9375, -124.875 , ...,  -67.125 ,  -67.0625,\n",
      "         -67.    ],\n",
      "       [-125.    , -124.9375, -124.875 , ...,  -67.125 ,  -67.0625,\n",
      "         -67.    ],\n",
      "       ...,\n",
      "       [-125.    , -124.9375, -124.875 , ...,  -67.125 ,  -67.0625,\n",
      "         -67.    ],\n",
      "       [-125.    , -124.9375, -124.875 , ...,  -67.125 ,  -67.0625,\n",
      "         -67.    ],\n",
      "       [-125.    , -124.9375, -124.875 , ...,  -67.125 ,  -67.0625,\n",
      "         -67.    ]]), 'lat_b': array([[14.625 , 14.625 , 14.625 , ..., 14.625 , 14.625 , 14.625 ],\n",
      "       [14.6875, 14.6875, 14.6875, ..., 14.6875, 14.6875, 14.6875],\n",
      "       [14.75  , 14.75  , 14.75  , ..., 14.75  , 14.75  , 14.75  ],\n",
      "       ...,\n",
      "       [52.875 , 52.875 , 52.875 , ..., 52.875 , 52.875 , 52.875 ],\n",
      "       [52.9375, 52.9375, 52.9375, ..., 52.9375, 52.9375, 52.9375],\n",
      "       [53.    , 53.    , 53.    , ..., 53.    , 53.    , 53.    ]])}\n"
     ]
    }
   ],
   "source": [
    "src_grid = prep_grid(src_gridinfo)\n",
    "print(src_grid)"
   ]
  },
  {
   "cell_type": "markdown",
   "id": "e70eb716-07dc-46e7-b598-a29e0fc492c7",
   "metadata": {},
   "source": [
    "### 3f. Prepare Destination Grid for `xESMF.Regridder()`\n",
    "\n"
   ]
  },
  {
   "cell_type": "code",
   "execution_count": 14,
   "id": "4012ecc0-e23e-49fb-8887-bef656bb7db5",
   "metadata": {},
   "outputs": [
    {
     "name": "stdout",
     "output_type": "stream",
     "text": [
      "{'lon': array([[-120.66577 , -120.6306  , -120.59543 , ..., -108.804565,\n",
      "        -108.769394, -108.73422 ],\n",
      "       [-120.668335, -120.63315 , -120.59796 , ..., -108.80203 ,\n",
      "        -108.766846, -108.73166 ],\n",
      "       [-120.6709  , -120.6357  , -120.600494, ..., -108.7995  ,\n",
      "        -108.7643  , -108.729095],\n",
      "       ...,\n",
      "       [-121.50107 , -121.46101 , -121.42096 , ..., -107.979034,\n",
      "        -107.93898 , -107.898926],\n",
      "       [-121.50441 , -121.464325, -121.424255, ..., -107.97574 ,\n",
      "        -107.93567 , -107.895584],\n",
      "       [-121.50775 , -121.46765 , -121.427536, ..., -107.97246 ,\n",
      "        -107.93234 , -107.89224 ]], dtype=float32), 'lat': array([[40.251755, 40.2537  , 40.25564 , ..., 40.25564 , 40.2537  ,\n",
      "        40.251755],\n",
      "       [40.2786  , 40.28055 , 40.282494, ..., 40.282494, 40.28055 ,\n",
      "        40.2786  ],\n",
      "       [40.30545 , 40.307404, 40.309345, ..., 40.309345, 40.307404,\n",
      "        40.30545 ],\n",
      "       ...,\n",
      "       [47.94009 , 47.94231 , 47.94452 , ..., 47.94452 , 47.94231 ,\n",
      "        47.94009 ],\n",
      "       [47.966923, 47.969147, 47.97136 , ..., 47.97136 , 47.969147,\n",
      "        47.966923],\n",
      "       [47.993755, 47.995983, 47.998196, ..., 47.998196, 47.995983,\n",
      "        47.993755]], dtype=float32), 'lon_b': array([[-120.68208 , -120.64691 , -120.61174 , ..., -108.78825 ,\n",
      "        -108.75308 , -108.71791 ],\n",
      "       [-120.68465 , -120.649475, -120.61429 , ..., -108.785706,\n",
      "        -108.75052 , -108.71535 ],\n",
      "       [-120.687225, -120.65202 , -120.61682 , ..., -108.78317 ,\n",
      "        -108.74797 , -108.71277 ],\n",
      "       ...,\n",
      "       [-121.522766, -121.4827  , -121.44263 , ..., -107.95737 ,\n",
      "        -107.9173  , -107.87723 ],\n",
      "       [-121.52612 , -121.48602 , -121.44594 , ..., -107.954056,\n",
      "        -107.91397 , -107.87387 ],\n",
      "       [-121.529465, -121.48935 , -121.44925 , ..., -107.950745,\n",
      "        -107.910645, -107.87053 ]], dtype=float32), 'lat_b': array([[40.237354, 40.23931 , 40.241253, ..., 40.241253, 40.23931 ,\n",
      "        40.237354],\n",
      "       [40.264206, 40.26615 , 40.2681  , ..., 40.2681  , 40.26615 ,\n",
      "        40.264206],\n",
      "       [40.29105 , 40.293   , 40.294952, ..., 40.294952, 40.293   ,\n",
      "        40.29105 ],\n",
      "       ...,\n",
      "       [47.952393, 47.954617, 47.956833, ..., 47.956833, 47.954617,\n",
      "        47.952393],\n",
      "       [47.979225, 47.981457, 47.983673, ..., 47.983673, 47.981457,\n",
      "        47.979225],\n",
      "       [48.006058, 48.008286, 48.010506, ..., 48.010506, 48.008286,\n",
      "        48.006058]], dtype=float32)}\n"
     ]
    }
   ],
   "source": [
    "dest_grid = prep_grid(dest_gridinfo)\n",
    "print(dest_grid)"
   ]
  },
  {
   "cell_type": "markdown",
   "id": "36dac9a2-9f8d-495c-a144-014840964eb7",
   "metadata": {},
   "source": [
    "### 3g. Call `xESMF.Regridder()`\n"
   ]
  },
  {
   "cell_type": "code",
   "execution_count": 15,
   "id": "fbacf73f-ec09-4d47-b708-2e6e96c4c08b",
   "metadata": {},
   "outputs": [
    {
     "data": {
      "text/plain": [
       "xESMF Regridder \n",
       "Regridding algorithm:       conservative \n",
       "Weight filename:            conservative_614x928_289x339.nc \n",
       "Reuse pre-computed weights? False \n",
       "Input grid shape:           (614, 928) \n",
       "Output grid shape:          (289, 339) \n",
       "Periodic in longitude?      False"
      ]
     },
     "execution_count": 15,
     "metadata": {},
     "output_type": "execute_result"
    }
   ],
   "source": [
    "## Way 1: Compute weights\n",
    "regridder = xe.Regridder(src_grid, dest_grid, config_data['jobinfo']['xesmf_method'])\n",
    "\n",
    "## Way 2: Use old weights\n",
    "#regridder = xe.Regridder(src_grid, dest_grid, config_data['jobinfo']['xesmf_method'],\n",
    "#                          weights='livneh_to_id-wrf30-narr_conservative_614x928_289x339.nc')\n",
    "\n",
    "regridder"
   ]
  },
  {
   "cell_type": "code",
   "execution_count": 16,
   "id": "c5e0b3a1-b46e-4ae1-83f4-4e837941e2dc",
   "metadata": {},
   "outputs": [
    {
     "data": {
      "text/plain": [
       "'livneh_to_id-wrf30-narr_conservative_614x928_289x339.nc'"
      ]
     },
     "execution_count": 16,
     "metadata": {},
     "output_type": "execute_result"
    }
   ],
   "source": [
    "new_weight_fname = config_data['jobinfo']['jobtag']+'_'+regridder.filename\n",
    "new_weight_fname"
   ]
  },
  {
   "cell_type": "code",
   "execution_count": 17,
   "id": "18aca196-5dbf-409a-96f2-c2ad9e5067f9",
   "metadata": {},
   "outputs": [
    {
     "data": {
      "text/plain": [
       "'livneh_to_id-wrf30-narr_conservative_614x928_289x339.nc'"
      ]
     },
     "execution_count": 17,
     "metadata": {},
     "output_type": "execute_result"
    }
   ],
   "source": [
    "regridder.to_netcdf(new_weight_fname)"
   ]
  },
  {
   "cell_type": "markdown",
   "id": "83b56aef-ca72-4a9c-88c2-9d1f0247df68",
   "metadata": {},
   "source": [
    "## 4. Regridding\n",
    "\n",
    "### 4a. Get Start and End Date of Regridding\n",
    "\n",
    "### 4b. Get Source Grid Location\n",
    "Error trap... exists? \n",
    "Use xr.open_mfdataset()? \n",
    "\n",
    "### 4c. Get Variable Names to be Regridded\n",
    "\n",
    "### 4d. Get Destination Grid Location\n",
    "\n"
   ]
  },
  {
   "cell_type": "code",
   "execution_count": null,
   "id": "b06d7f13-ae27-4f89-8f11-15edc60d3769",
   "metadata": {},
   "outputs": [],
   "source": []
  }
 ],
 "metadata": {
  "kernelspec": {
   "display_name": "Python 3 (ipykernel)",
   "language": "python",
   "name": "python3"
  },
  "language_info": {
   "codemirror_mode": {
    "name": "ipython",
    "version": 3
   },
   "file_extension": ".py",
   "mimetype": "text/x-python",
   "name": "python",
   "nbconvert_exporter": "python",
   "pygments_lexer": "ipython3",
   "version": "3.9.7"
  }
 },
 "nbformat": 4,
 "nbformat_minor": 5
}
