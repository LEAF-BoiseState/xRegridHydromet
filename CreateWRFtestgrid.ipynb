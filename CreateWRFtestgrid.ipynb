{
 "cells": [
  {
   "cell_type": "markdown",
   "id": "fb040f4c-c0a8-49e0-a172-60e58e2a4683",
   "metadata": {},
   "source": [
    "# Create a Curvilinear Test Grid\n",
    "\n",
    "This notebook creates a curvilinear grid to test the xRegridHydromet program. It uses an existing WRF grid that covers the Snake River Basin and cuts out a 10 x 10 cell patch that is centered on [Albertsons Stadium](https://en.wikipedia.org/wiki/Albertsons_Stadium) on Boise State University's campus. "
   ]
  },
  {
   "cell_type": "code",
   "execution_count": 1,
   "id": "636524ce-7565-4752-9e39-e847148ff232",
   "metadata": {},
   "outputs": [],
   "source": [
    "import xarray as xr\n",
    "import numpy as np\n",
    "import matplotlib.pyplot as plt\n",
    "\n",
    "src_file = './dest/id_wrf_narr_d01.nc' # An existing WRF geo_em file\n",
    "\n",
    "ds = xr.open_dataset(src_file) # Open the grid as an xarray dataset\n",
    "\n",
    "# Test coordinates are centered in Albertsons Stadium on Boise State's campus\n",
    "lat = 43.603\n",
    "lon = -116.196\n",
    "\n",
    "testfileoutput = './tests/testdest/testdestgrid.nc'"
   ]
  },
  {
   "cell_type": "markdown",
   "id": "4f1f4df7-aa90-4f59-b59a-91df5c2e4c6e",
   "metadata": {},
   "source": [
    "### 1. Prepare a Dataset with Only Coordinate Variables\n",
    "\n",
    "Extract the following grids from the dataset: \n",
    "- `XLAT_M`: 2D latitude array of WRF grid centers\n",
    "- `XLONG_M`: 2D longitude array of WRF grid centers\n",
    "- `XLAT_C`: 2D latitude array of WRF grid corners\n",
    "- `XLONG_C`: 2D longitude array of WRF grid corners\n",
    "\n",
    "And create a new `xArray` dataset with these grids."
   ]
  },
  {
   "cell_type": "code",
   "execution_count": 2,
   "id": "d4615fea-b1a0-4c44-a1cd-12a4a4dd6ae0",
   "metadata": {},
   "outputs": [
    {
     "name": "stdout",
     "output_type": "stream",
     "text": [
      "<xarray.Dataset>\n",
      "Dimensions:  (Time: 1, south_north: 289, west_east: 339, south_north_stag: 290, west_east_stag: 340)\n",
      "Dimensions without coordinates: Time, south_north, west_east, south_north_stag, west_east_stag\n",
      "Data variables:\n",
      "    XLAT_M   (Time, south_north, west_east) float32 ...\n",
      "    XLONG_M  (Time, south_north, west_east) float32 ...\n",
      "    XLAT_C   (Time, south_north_stag, west_east_stag) float32 ...\n",
      "    XLONG_C  (Time, south_north_stag, west_east_stag) float32 ...\n"
     ]
    }
   ],
   "source": [
    "da_xlatm = ds['XLAT_M']\n",
    "da_xlongm = ds['XLONG_M']\n",
    "da_xlatc = ds['XLAT_C']\n",
    "da_xlongc = ds['XLONG_C']\n",
    "\n",
    "ds_grid = da_xlatm.to_dataset()\n",
    "ds_grid['XLONG_M'] = da_xlongm\n",
    "ds_grid['XLAT_C'] = da_xlatc\n",
    "ds_grid['XLONG_C'] = da_xlongc\n",
    "\n",
    "print(ds_grid)"
   ]
  },
  {
   "cell_type": "markdown",
   "id": "b394109d-456f-488b-90c8-5b0304c22a35",
   "metadata": {},
   "source": [
    "### 2. Get a 10 x 10 Patch of Grid Cells\n",
    "#### 2.1 Get a Measure of Distance from Grid Centers to Target Coordinate"
   ]
  },
  {
   "cell_type": "code",
   "execution_count": 3,
   "id": "ba9dd54c-43bf-48e9-93dd-a142887be7d2",
   "metadata": {},
   "outputs": [],
   "source": [
    "abslat = np.abs(ds_grid.XLAT_M - lat)\n",
    "abslon = np.abs(ds_grid.XLONG_M - lon)\n",
    "c = np.maximum(abslon, abslat)"
   ]
  },
  {
   "cell_type": "markdown",
   "id": "cecdb648-7539-49c9-8ddd-b3ef7f1531cb",
   "metadata": {},
   "source": [
    "#### 2.2 Get the Indices of the Grid Cell Closest to Target "
   ]
  },
  {
   "cell_type": "code",
   "execution_count": 4,
   "id": "14c9c9a1-b22d-416f-8b67-6d9380bb7387",
   "metadata": {},
   "outputs": [],
   "source": [
    "([tloc],[yloc],[xloc]) = np.where(c == np.min(np.squeeze(c, axis=0)))"
   ]
  },
  {
   "cell_type": "code",
   "execution_count": 5,
   "id": "abc97c67-ba06-441d-abc1-8caa36a192f2",
   "metadata": {},
   "outputs": [
    {
     "name": "stdout",
     "output_type": "stream",
     "text": [
      "129\n",
      "119\n"
     ]
    }
   ],
   "source": [
    "print(xloc)\n",
    "print(yloc)"
   ]
  },
  {
   "cell_type": "markdown",
   "id": "25b4f014-94db-4d3a-85b1-95c6caf1484f",
   "metadata": {},
   "source": [
    "#### 2.3 Get 10 x 10 Cells in West-East and South-North Centered on Target"
   ]
  },
  {
   "cell_type": "code",
   "execution_count": 6,
   "id": "1f0d5480-6d8a-41a5-bb67-3436a595e4db",
   "metadata": {},
   "outputs": [],
   "source": [
    "da_xlatm_test = ds_grid['XLAT_M'].sel(south_north=slice(yloc-5,yloc+5),west_east=slice(xloc-5,xloc+5))\n",
    "da_xlongm_test = ds_grid['XLONG_M'].sel(south_north=slice(yloc-5,yloc+5),west_east=slice(xloc-5,xloc+5))\n",
    "da_xlatc_test = ds_grid['XLAT_C'].sel(south_north_stag=slice(yloc-5,yloc+6),west_east_stag=slice(xloc-5,xloc+6))\n",
    "da_xlongc_test = ds_grid['XLONG_C'].sel(south_north_stag=slice(yloc-5,yloc+6),west_east_stag=slice(xloc-5,xloc+6))\n",
    "\n"
   ]
  },
  {
   "cell_type": "markdown",
   "id": "b804a8e7-0636-4f38-bac9-37a6dbfe5633",
   "metadata": {},
   "source": [
    "#### 2.4 Create a New `xArray` Dataset from this Patch"
   ]
  },
  {
   "cell_type": "code",
   "execution_count": 7,
   "id": "d73f7a1a-92b6-4f8e-bd93-b5fa0045c5e6",
   "metadata": {},
   "outputs": [
    {
     "name": "stdout",
     "output_type": "stream",
     "text": [
      "<xarray.Dataset>\n",
      "Dimensions:  (Time: 1, south_north: 10, west_east: 10, south_north_stag: 11, west_east_stag: 11)\n",
      "Dimensions without coordinates: Time, south_north, west_east, south_north_stag, west_east_stag\n",
      "Data variables:\n",
      "    XLAT_M   (Time, south_north, west_east) float32 43.48 43.48 ... 43.72 43.73\n",
      "    XLONG_M  (Time, south_north, west_east) float32 -116.4 -116.3 ... -116.0\n",
      "    XLAT_C   (Time, south_north_stag, west_east_stag) float32 ...\n",
      "    XLONG_C  (Time, south_north_stag, west_east_stag) float32 ...\n"
     ]
    }
   ],
   "source": [
    "ds_grid_test = da_xlatm_test.to_dataset()\n",
    "ds_grid_test['XLONG_M'] = da_xlongm_test\n",
    "ds_grid_test['XLAT_C'] = da_xlatc_test\n",
    "ds_grid_test['XLONG_C'] = da_xlongc_test\n",
    "print(ds_grid_test)"
   ]
  },
  {
   "cell_type": "code",
   "execution_count": 8,
   "id": "1d128653-ad6b-4e30-9005-196a918b9ba4",
   "metadata": {},
   "outputs": [
    {
     "name": "stdout",
     "output_type": "stream",
     "text": [
      "<xarray.Dataset>\n",
      "Dimensions:  (Time: 1, south_north: 10, west_east: 10, south_north_stag: 11, west_east_stag: 11)\n",
      "Coordinates:\n",
      "    XLAT_M   (Time, south_north, west_east) float32 43.48 43.48 ... 43.72 43.73\n",
      "    XLONG_M  (Time, south_north, west_east) float32 -116.4 -116.3 ... -116.0\n",
      "    XLAT_C   (Time, south_north_stag, west_east_stag) float32 ...\n",
      "    XLONG_C  (Time, south_north_stag, west_east_stag) float32 ...\n",
      "Dimensions without coordinates: Time, south_north, west_east, south_north_stag, west_east_stag\n",
      "Data variables:\n",
      "    *empty*\n"
     ]
    }
   ],
   "source": [
    "ds_grid_test = ds_grid_test.set_coords(['XLAT_M','XLONG_M','XLAT_C','XLONG_C'])\n",
    "print(ds_grid_test)"
   ]
  },
  {
   "cell_type": "code",
   "execution_count": 9,
   "id": "e411310b-f74d-4a83-8f34-eb3a4a632e36",
   "metadata": {},
   "outputs": [
    {
     "name": "stdout",
     "output_type": "stream",
     "text": [
      "<xarray.Dataset>\n",
      "Dimensions:    (Time: 1, south_north: 10, west_east: 10, south_north_stag: 11, west_east_stag: 11)\n",
      "Coordinates:\n",
      "    XLAT_M     (Time, south_north, west_east) float32 43.48 43.48 ... 43.73\n",
      "    XLONG_M    (Time, south_north, west_east) float32 -116.4 -116.3 ... -116.0\n",
      "    XLAT_C     (Time, south_north_stag, west_east_stag) float32 ...\n",
      "    XLONG_C    (Time, south_north_stag, west_east_stag) float32 ...\n",
      "Dimensions without coordinates: Time, south_north, west_east, south_north_stag, west_east_stag\n",
      "Data variables:\n",
      "    test_rand  (Time, south_north, west_east) float64 -1.781 0.5016 ... -0.6573\n"
     ]
    }
   ],
   "source": [
    "test_data = np.random.randn(1,ds_grid_test.south_north.size, ds_grid_test.west_east.size)\n",
    "\n",
    "ds_grid_test['test_rand'] = (('Time','south_north','west_east'), test_data)\n",
    "print(ds_grid_test)"
   ]
  },
  {
   "cell_type": "code",
   "execution_count": 10,
   "id": "226f7312-7d0a-4b8a-bfff-04d30ab879e5",
   "metadata": {},
   "outputs": [
    {
     "data": {
      "text/plain": [
       "<matplotlib.collections.QuadMesh at 0x7fa175cec1f0>"
      ]
     },
     "execution_count": 10,
     "metadata": {},
     "output_type": "execute_result"
    },
    {
     "data": {
      "image/png": "[encoded data removed]",
      "text/plain": [
       "<Figure size 864x864 with 2 Axes>"
      ]
     },
     "metadata": {
      "needs_background": "light"
     },
     "output_type": "display_data"
    }
   ],
   "source": [
    "ds_grid_test.test_rand.plot(figsize=(12,12),x='XLONG_M',y='XLAT_M')"
   ]
  },
  {
   "cell_type": "markdown",
   "id": "d3b81d94-a3df-496b-a31c-7e8e05491699",
   "metadata": {},
   "source": [
    "#### 2.5 Save Test Grid to `NetCDF` File"
   ]
  },
  {
   "cell_type": "code",
   "execution_count": 11,
   "id": "c0ba4316-d569-463f-a9e1-f0f95b638aaf",
   "metadata": {},
   "outputs": [],
   "source": [
    "ds_grid_test.to_netcdf(testfileoutput)"
   ]
  },
  {
   "cell_type": "markdown",
   "id": "e8ecb888-14c3-4eed-830f-bc63eee5911a",
   "metadata": {},
   "source": [
    "### 3. Plot Target, Test Grid Centers, Test Grid Corners"
   ]
  },
  {
   "cell_type": "code",
   "execution_count": 12,
   "id": "f9902aec-7d13-4c11-9c96-1e3ceb9aff4f",
   "metadata": {},
   "outputs": [
    {
     "data": {
      "image/png": "[encoded data removed]",
      "text/plain": [
       "<Figure size 864x864 with 1 Axes>"
      ]
     },
     "metadata": {
      "needs_background": "light"
     },
     "output_type": "display_data"
    }
   ],
   "source": [
    "plt.figure(figsize=(12,12))\n",
    "plt.rcParams.update({'font.size': 16})\n",
    "plt.scatter(ds_grid_test.XLONG_M.values,ds_grid_test.XLAT_M.values,label='WRF grid centers',marker='s')\n",
    "plt.scatter(ds_grid_test.XLONG_C.values,ds_grid_test.XLAT_C.values,label='WRF grid corners',marker='+',color='g')\n",
    "plt.scatter(lon,lat, color='r',label='Albertsons Stadium')\n",
    "plt.legend(bbox_to_anchor=(1.2, 0.5), loc='center', ncol=1)\n",
    "plt.xlabel('Longitude')\n",
    "plt.ylabel('Latitude')\n",
    "plt.show()\n"
   ]
  }
 ],
 "metadata": {
  "kernelspec": {
   "display_name": "Python 3 (ipykernel)",
   "language": "python",
   "name": "python3"
  },
  "language_info": {
   "codemirror_mode": {
    "name": "ipython",
    "version": 3
   },
   "file_extension": ".py",
   "mimetype": "text/x-python",
   "name": "python",
   "nbconvert_exporter": "python",
   "pygments_lexer": "ipython3",
   "version": "3.9.7"
  }
 },
 "nbformat": 4,
 "nbformat_minor": 5
}
